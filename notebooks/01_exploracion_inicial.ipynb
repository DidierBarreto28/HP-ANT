{
 "cells": [
  {
   "cell_type": "markdown",
   "id": "cda9cc63",
   "metadata": {},
   "source": [
    "Contiene 12 Columnas y 132 Filas.\n",
    "\n"
   ]
  },
  {
   "cell_type": "markdown",
   "id": "b4c63615",
   "metadata": {},
   "source": [
    "Contiene datos tipo SRC, INT, FLOAT."
   ]
  },
  {
   "cell_type": "markdown",
   "id": "0c3a6bc9",
   "metadata": {},
   "source": [
    "En la columna \"Punto\" hay celdas vacias."
   ]
  }
 ],
 "metadata": {
  "language_info": {
   "name": "python"
  }
 },
 "nbformat": 4,
 "nbformat_minor": 5
}
