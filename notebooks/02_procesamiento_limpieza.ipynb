{
 "cells": [
  {
   "cell_type": "markdown",
   "id": "0cdbd67b",
   "metadata": {},
   "source": [
    "Se cargo el CSV para que fuera leido en UTF8, con esto se arreglo el error de datos faltantes, archivo listo para subir a database.\n"
   ]
  }
 ],
 "metadata": {
  "language_info": {
   "name": "python"
  }
 },
 "nbformat": 4,
 "nbformat_minor": 5
}
