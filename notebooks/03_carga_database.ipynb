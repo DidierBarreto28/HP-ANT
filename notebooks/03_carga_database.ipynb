{
 "cells": [
  {
   "cell_type": "markdown",
   "id": "924c79f7",
   "metadata": {},
   "source": [
    "Se hizo una nueva limpieza, eliminar comillas \"\" sin cierre, CSV cargado a processed."
   ]
  },
  {
   "cell_type": "markdown",
   "id": "da85b9b5",
   "metadata": {},
   "source": [
    "Se cargo el CSV limpio a Base de Datos MySQL, uso de HeidiSQL."
   ]
  }
 ],
 "metadata": {
  "language_info": {
   "name": "python"
  }
 },
 "nbformat": 4,
 "nbformat_minor": 5
}
